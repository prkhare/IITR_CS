{
 "cells": [
  {
   "cell_type": "markdown",
   "id": "f084f115",
   "metadata": {},
   "source": [
    "**a1.q1**\n"
   ]
  },
  {
   "cell_type": "code",
   "execution_count": 2,
   "id": "ec4032cc",
   "metadata": {},
   "outputs": [
    {
     "name": "stdout",
     "output_type": "stream",
     "text": [
      "4\n"
     ]
    }
   ],
   "source": [
    "def common_characters(s1, s2):\n",
    "  str1=list(set(s1))\n",
    "  str2=list(set(s2))\n",
    "  common=0\n",
    "  for i in range(len(str1)):\n",
    "    for j in range(len(str2)):\n",
    "      if str1[i]==str2[j]:\n",
    "        common+=1\n",
    "        \n",
    "  print(common)\n",
    "    # Write your coding logic here\n",
    "common_characters('hellod','wohrld')"
   ]
  },
  {
   "cell_type": "markdown",
   "id": "e3209ada",
   "metadata": {},
   "source": [
    "**a1.q2**"
   ]
  },
  {
   "cell_type": "code",
   "execution_count": 1,
   "id": "21276fd5",
   "metadata": {},
   "outputs": [
    {
     "name": "stdout",
     "output_type": "stream",
     "text": [
      "['pro', 'rog', 'ogr', 'gra', 'ram', 'amm', 'mmi', 'min', 'ing']\n"
     ]
    }
   ],
   "source": [
    "def count_unique_substrings(s, k):\n",
    "  str=[]\n",
    "  for i in range(len(s)-k+1):\n",
    "      s1=s[i]\n",
    "      #print(s1)\n",
    "      for j in range(k-1):\n",
    "          s1=s1+s[i+j+1]\n",
    "          #print(s1)\n",
    "      \n",
    "      str.append(s1)\n",
    "     \n",
    "  ustr=set(str)\n",
    "  print(str)\n",
    "count_unique_substrings('programming',3)"
   ]
  },
  {
   "cell_type": "markdown",
   "id": "b17f31d4",
   "metadata": {},
   "source": [
    "**a1.q3**\n",
    "\n"
   ]
  },
  {
   "cell_type": "code",
   "execution_count": 9,
   "id": "46e26dd7",
   "metadata": {},
   "outputs": [
    {
     "name": "stdout",
     "output_type": "stream",
     "text": [
      "list:['palllop', 'helloh', 'palllop', 'mom', 'dad', 'mom', 'dad', 'daad', 'mom', 'palllop']\n",
      "word counts: {'palllop': 3, 'helloh': 1, 'mom': 3, 'dad': 2, 'daad': 1}\n",
      "['palllop', 'mom']\n"
     ]
    }
   ],
   "source": [
    "def word_frequency_analyzer(target_freq, text):\n",
    "  str=text.split()\n",
    "  #print(str)\n",
    "  #print(len(str[0]))\n",
    "  #print(str[0][0])\n",
    "  lst=[]\n",
    "  for i in range(len(str)):\n",
    "    if (len(str[i])>=3 and str[i][0]==str[i][len(str[i])-1] and any(char in 'aeiou' for char in str[i].lower())):\n",
    "      #print(str[i])\n",
    "       lst.append(str[i])\n",
    "  print (f\"list:{lst}\")\n",
    "  \n",
    "  my_dic={}\n",
    "  #counter=0\n",
    "  for word in lst:\n",
    "    if word in my_dic:\n",
    "      my_dic[word]=my_dic[word]+1\n",
    "    else:\n",
    "      my_dic[word]=1\n",
    "\n",
    "  print(f\"word counts: {my_dic}\")\n",
    "  \n",
    "  final_words=[]\n",
    "  for word in my_dic:\n",
    "    if my_dic[word]==target_freq:\n",
    "      final_words.append(word)\n",
    "\n",
    "  print(final_words)\n",
    "\n",
    "word_frequency_analyzer(3, 'hello palllop world helloh palllop mom dad mom dad daad mom palllop')"
   ]
  },
  {
   "cell_type": "markdown",
   "id": "12c82116",
   "metadata": {},
   "source": [
    "**a1.q4**"
   ]
  },
  {
   "cell_type": "code",
   "execution_count": 16,
   "id": "384f08c1",
   "metadata": {},
   "outputs": [
    {
     "name": "stdout",
     "output_type": "stream",
     "text": [
      "9 3 5\n",
      "['eat', 'tane', 'tea', 'pat', 'neat', 'ate', 'Eant', 'listen', 'silent']\n",
      "['eat', 'tane', 'tea', 'pat', 'neat', 'ate']\n",
      "['aet', 'aent', 'aet', 'apt', 'aent', 'aet']\n",
      "{'aet': 3, 'aent': 2, 'apt': 1}\n",
      "2\n"
     ]
    }
   ],
   "source": [
    "def count_anagram_groups(n,min_len,max_len,words):\n",
    "    \n",
    "    \n",
    "    print(n,min_len,max_len)\n",
    "    print(words)\n",
    "\n",
    "    valid_words=[]\n",
    "    for word in words:\n",
    "        if 1 <= n <= 100 and 1<=min_len <=max_len<=20 and word.islower() and 1<=len(word)<=20 and min_len<=len(word)<=max_len:\n",
    "            valid_words.append(word)\n",
    "    \n",
    "    print(valid_words)\n",
    "\n",
    "    sorted_list=[]\n",
    "    for word in valid_words:\n",
    "        sorted_chars=sorted(word)\n",
    "        sorted_list.append(\"\".join(sorted_chars))\n",
    "\n",
    "    print(sorted_list)\n",
    "\n",
    "    word_dict={}\n",
    "\n",
    "    for word in sorted_list:\n",
    "        if word in word_dict:\n",
    "            word_dict[word]+=1\n",
    "        else:\n",
    "            word_dict[word]=1\n",
    "    \n",
    "    print(word_dict)\n",
    "\n",
    "    counter=0\n",
    "    for word in word_dict:\n",
    "        if word_dict[word]>=2:\n",
    "            counter+=1\n",
    "\n",
    "    print(counter)\n",
    "\n",
    "count_anagram_groups(9,3,5,['eat','tane','tea','pat','neat','ate','Eant','listen','silent'])"
   ]
  }
 ],
 "metadata": {
  "kernelspec": {
   "display_name": "Python 3",
   "language": "python",
   "name": "python3"
  },
  "language_info": {
   "codemirror_mode": {
    "name": "ipython",
    "version": 3
   },
   "file_extension": ".py",
   "mimetype": "text/x-python",
   "name": "python",
   "nbconvert_exporter": "python",
   "pygments_lexer": "ipython3",
   "version": "3.12.1"
  }
 },
 "nbformat": 4,
 "nbformat_minor": 5
}
