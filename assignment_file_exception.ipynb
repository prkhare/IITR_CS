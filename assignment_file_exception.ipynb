{
 "cells": [
  {
   "cell_type": "code",
   "execution_count": 5,
   "id": "033938c0",
   "metadata": {},
   "outputs": [
    {
     "name": "stdout",
     "output_type": "stream",
     "text": [
      "Error: Input file not found\n"
     ]
    }
   ],
   "source": [
    "def process_user_input(input_filename,output_filename):\n",
    "    try:\n",
    "        with open('input_filename','r') as f:\n",
    "            lines=f.readline()\n",
    "            print(type(lines))\n",
    "\n",
    "    except FileNotFoundError:\n",
    "        print('Error: Input file not found')\n",
    "\n",
    "#process_user_input(\"fwf.txt\",\"report.txt\")\n",
    "process_user_input('users.txt','report.txt')"
   ]
  }
 ],
 "metadata": {
  "kernelspec": {
   "display_name": "Python 3",
   "language": "python",
   "name": "python3"
  },
  "language_info": {
   "codemirror_mode": {
    "name": "ipython",
    "version": 3
   },
   "file_extension": ".py",
   "mimetype": "text/x-python",
   "name": "python",
   "nbconvert_exporter": "python",
   "pygments_lexer": "ipython3",
   "version": "3.12.1"
  }
 },
 "nbformat": 4,
 "nbformat_minor": 5
}
