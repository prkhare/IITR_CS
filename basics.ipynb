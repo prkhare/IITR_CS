{
 "cells": [
  {
   "cell_type": "code",
   "execution_count": null,
   "id": "8825511e",
   "metadata": {
    "vscode": {
     "languageId": "plaintext"
    }
   },
   "outputs": [],
   "source": [
    "result = 2 ** 3 + 3 ** 2\n",
    "print(result)"
   ]
  }
 ],
 "metadata": {
  "language_info": {
   "name": "python"
  }
 },
 "nbformat": 4,
 "nbformat_minor": 5
}
