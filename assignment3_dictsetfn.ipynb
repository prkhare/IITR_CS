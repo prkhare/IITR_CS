{
 "cells": [
  {
   "cell_type": "code",
   "execution_count": null,
   "id": "c540c2a3",
   "metadata": {},
   "outputs": [
    {
     "name": "stdout",
     "output_type": "stream",
     "text": [
      "3\n"
     ]
    },
    {
     "data": {
      "text/plain": [
       "set"
      ]
     },
     "execution_count": 2,
     "metadata": {},
     "output_type": "execute_result"
    }
   ],
   "source": [
    "print(len({'apple','banana','apple','orange'}))\n",
    "\n",
    "t={'apple','banana','apple','orange'}\n",
    "type(t) "
   ]
  },
  {
   "cell_type": "code",
   "execution_count": 5,
   "id": "63360c37",
   "metadata": {},
   "outputs": [
    {
     "data": {
      "text/plain": [
       "'active'"
      ]
     },
     "execution_count": 5,
     "metadata": {},
     "output_type": "execute_result"
    }
   ],
   "source": [
    "user={'name':'alex','id':101}\n",
    "user.get('status','active')"
   ]
  },
  {
   "cell_type": "code",
   "execution_count": 7,
   "id": "97df92bf",
   "metadata": {},
   "outputs": [
    {
     "name": "stdout",
     "output_type": "stream",
     "text": [
      "91.25\n",
      "0.0\n"
     ]
    }
   ],
   "source": [
    "def calcuate_average_grade(grades):\n",
    "    sum=0\n",
    "    for key in grades:\n",
    "        sum+=grades.get(key)\n",
    "\n",
    "    if len(grades)==0:\n",
    "        return 0.0\n",
    "    else:\n",
    "        return sum/len(grades)\n",
    "    \n",
    "\n",
    "marks={\n",
    "    'Math':90,\n",
    "    'Science':88,\n",
    "    'History':92,\n",
    "    'English':95\n",
    "}\n",
    "\n",
    "marksnull={}\n",
    "\n",
    "print(calcuate_average_grade(marks))\n",
    "print(calcuate_average_grade(marksnull))\n"
   ]
  },
  {
   "cell_type": "code",
   "execution_count": 8,
   "id": "a21ffaad",
   "metadata": {},
   "outputs": [
    {
     "data": {
      "text/plain": [
       "{'python', 'web dev'}"
      ]
     },
     "execution_count": 8,
     "metadata": {},
     "output_type": "execute_result"
    }
   ],
   "source": [
    "def find_common_tags(user1_tags,user2_tags):\n",
    "    set1=set(user1_tags)\n",
    "    set2=set(user2_tags)\n",
    "    common_tags=set1.intersection(set2)\n",
    "    return(common_tags)\n",
    "\n",
    "user1 = ['python', 'data science', 'machine learning', 'web dev']\n",
    "user2 = ['python', 'web dev', 'mobile dev', 'ui/ux']\n",
    "\n",
    "find_common_tags(user1,user2)"
   ]
  },
  {
   "cell_type": "code",
   "execution_count": null,
   "id": "a2fc92b4",
   "metadata": {},
   "outputs": [
    {
     "data": {
      "text/plain": [
       "[{'name': 'Laptop', 'price': 1200, 'stock': 45},\n",
       " {'name': 'Mouse', 'price': 25, 'stock': 150},\n",
       " {'name': 'Keyboard', 'price': 75, 'stock': 80}]"
      ]
     },
     "execution_count": 6,
     "metadata": {},
     "output_type": "execute_result"
    }
   ],
   "source": [
    "def update_stock(inventory,product_name,new_stock_count):\n",
    "    \n",
    "    for i in inventory:\n",
    "        #print(i)\n",
    "        if i.get('name')==product_name:\n",
    "            i['stock']=new_stock_count\n",
    "\n",
    "    return inventory\n",
    "\n",
    "\n",
    "inventory=[\n",
    "    {'name': 'Laptop', 'price': 1200, 'stock': 45},\n",
    "    {'name': 'Mouse', 'price': 25, 'stock': 150},\n",
    "    {'name': 'Keyboard', 'price': 75, 'stock': 80}\n",
    "]\n",
    "product_to_update = 'Car'\n",
    "new_stock = 125\n",
    "update_stock(inventory,product_to_update,new_stock)\n",
    "    "
   ]
  },
  {
   "cell_type": "code",
   "execution_count": null,
   "id": "ecf0682c",
   "metadata": {},
   "outputs": [
    {
     "data": {
      "text/plain": [
       "{'the': 3,\n",
       " 'quick': 1,\n",
       " 'brown': 1,\n",
       " 'fox': 1,\n",
       " 'jumps': 1,\n",
       " 'over': 1,\n",
       " 'lazy': 1,\n",
       " 'dog': 2,\n",
       " 'was': 1,\n",
       " 'not': 1,\n",
       " 'amused': 1}"
      ]
     },
     "execution_count": 5,
     "metadata": {},
     "output_type": "execute_result"
    }
   ],
   "source": [
    "\n",
    "def word_frequency(text):\n",
    "    word_list=text.split()\n",
    "    #print(word_list)\n",
    "    freq_dict={}\n",
    "\n",
    "    for word in word_list:\n",
    "        count=0\n",
    "        #print(word)\n",
    "        if word.lower() in freq_dict:\n",
    "            freq_dict[word.lower()]+=1\n",
    "        else:\n",
    "            freq_dict[word.lower()]=1\n",
    "\n",
    "    return freq_dict\n",
    "\n",
    "\n",
    "text_block = \"The quick brown fox jumps over the lazy dog The dog was not amused\"   \n",
    "word_frequency(text_block) \n"
   ]
  },
  {
   "cell_type": "code",
   "execution_count": 24,
   "id": "d488da58",
   "metadata": {},
   "outputs": [
    {
     "name": "stdout",
     "output_type": "stream",
     "text": [
      "lice\n",
      "David\n"
     ]
    },
    {
     "data": {
      "text/plain": [
       "['David', 'lice']"
      ]
     },
     "execution_count": 24,
     "metadata": {},
     "output_type": "execute_result"
    }
   ],
   "source": [
    "7.\n",
    "\n",
    "def find_eligible_students(students_list, required_prerequisites):\n",
    "\n",
    "    eligible_students=[]\n",
    "\n",
    "    for student in students_list:\n",
    "        #print(sorted(student['completed_courses']))\n",
    "        #\n",
    "        # print(student['status'])\n",
    "        #print(sorted(required_prerequisites))\n",
    "        if (student['gpa']>=3.5 and student['status']!='On Probation' and all(course in student['completed_courses'] for course in required_prerequisites)):\n",
    "            print(student['name'])\n",
    "            eligible_students.append(student['name'])\n",
    "\n",
    "    return sorted(eligible_students)\n",
    "\n",
    "students = [\n",
    "    {\n",
    "        'name': 'lice',\n",
    "        'gpa': 3.8,\n",
    "        'status': 'Good Standing',\n",
    "        'completed_courses': {'CS101', 'MA101', 'EN101', 'CS201'}\n",
    "    },\n",
    "    {\n",
    "        'name': 'Bob',\n",
    "        'gpa': 3.4,\n",
    "        'status': 'Good Standing',\n",
    "        'completed_courses': {'CS101', 'MA101', 'PH101', 'CS201'}\n",
    "    },\n",
    "    {\n",
    "        'name': 'Charlie',\n",
    "        'gpa': 3.9,\n",
    "        'status': 'Good Standing',\n",
    "        'completed_courses': {'CS101', 'MA101'}\n",
    "    },\n",
    "    {\n",
    "        'name': 'David',\n",
    "        'gpa': 4.0,\n",
    "        'status': 'Good Standing',\n",
    "        'completed_courses': {'CS101', 'MA101', 'PH101', 'CS201'}\n",
    "    },\n",
    "    {\n",
    "        'name': 'Eve',\n",
    "        'gpa': 3.7,\n",
    "        'status': 'On Probation',\n",
    "        'completed_courses': {'CS101', 'MA101', 'CS201'}\n",
    "    }\n",
    "]\n",
    "\n",
    "advanced_course_reqs = {'CS101', 'MA101', 'CS201'}\n",
    "find_eligible_students(students,advanced_course_reqs)"
   ]
  }
 ],
 "metadata": {
  "kernelspec": {
   "display_name": "Python 3",
   "language": "python",
   "name": "python3"
  },
  "language_info": {
   "codemirror_mode": {
    "name": "ipython",
    "version": 3
   },
   "file_extension": ".py",
   "mimetype": "text/x-python",
   "name": "python",
   "nbconvert_exporter": "python",
   "pygments_lexer": "ipython3",
   "version": "3.12.1"
  }
 },
 "nbformat": 4,
 "nbformat_minor": 5
}
