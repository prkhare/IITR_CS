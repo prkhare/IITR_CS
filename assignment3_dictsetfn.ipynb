{
 "cells": [
  {
   "cell_type": "code",
   "execution_count": null,
   "id": "c540c2a3",
   "metadata": {},
   "outputs": [
    {
     "name": "stdout",
     "output_type": "stream",
     "text": [
      "3\n"
     ]
    },
    {
     "data": {
      "text/plain": [
       "set"
      ]
     },
     "execution_count": 2,
     "metadata": {},
     "output_type": "execute_result"
    }
   ],
   "source": [
    "print(len({'apple','banana','apple','orange'}))\n",
    "\n",
    "t={'apple','banana','apple','orange'}\n",
    "type(t) "
   ]
  },
  {
   "cell_type": "code",
   "execution_count": 5,
   "id": "63360c37",
   "metadata": {},
   "outputs": [
    {
     "data": {
      "text/plain": [
       "'active'"
      ]
     },
     "execution_count": 5,
     "metadata": {},
     "output_type": "execute_result"
    }
   ],
   "source": [
    "user={'name':'alex','id':101}\n",
    "user.get('status','active')"
   ]
  },
  {
   "cell_type": "code",
   "execution_count": 7,
   "id": "97df92bf",
   "metadata": {},
   "outputs": [
    {
     "name": "stdout",
     "output_type": "stream",
     "text": [
      "91.25\n",
      "0.0\n"
     ]
    }
   ],
   "source": [
    "def calcuate_average_grade(grades):\n",
    "    sum=0\n",
    "    for key in grades:\n",
    "        sum+=grades.get(key)\n",
    "\n",
    "    if len(grades)==0:\n",
    "        return 0.0\n",
    "    else:\n",
    "        return sum/len(grades)\n",
    "    \n",
    "\n",
    "marks={\n",
    "    'Math':90,\n",
    "    'Science':88,\n",
    "    'History':92,\n",
    "    'English':95\n",
    "}\n",
    "\n",
    "marksnull={}\n",
    "\n",
    "print(calcuate_average_grade(marks))\n",
    "print(calcuate_average_grade(marksnull))\n"
   ]
  },
  {
   "cell_type": "code",
   "execution_count": 8,
   "id": "a21ffaad",
   "metadata": {},
   "outputs": [
    {
     "data": {
      "text/plain": [
       "{'python', 'web dev'}"
      ]
     },
     "execution_count": 8,
     "metadata": {},
     "output_type": "execute_result"
    }
   ],
   "source": [
    "def find_common_tags(user1_tags,user2_tags):\n",
    "    set1=set(user1_tags)\n",
    "    set2=set(user2_tags)\n",
    "    common_tags=set1.intersection(set2)\n",
    "    return(common_tags)\n",
    "\n",
    "user1 = ['python', 'data science', 'machine learning', 'web dev']\n",
    "user2 = ['python', 'web dev', 'mobile dev', 'ui/ux']\n",
    "\n",
    "find_common_tags(user1,user2)"
   ]
  },
  {
   "cell_type": "code",
   "execution_count": null,
   "id": "a2fc92b4",
   "metadata": {},
   "outputs": [],
   "source": []
  }
 ],
 "metadata": {
  "kernelspec": {
   "display_name": "Python 3",
   "language": "python",
   "name": "python3"
  },
  "language_info": {
   "codemirror_mode": {
    "name": "ipython",
    "version": 3
   },
   "file_extension": ".py",
   "mimetype": "text/x-python",
   "name": "python",
   "nbconvert_exporter": "python",
   "pygments_lexer": "ipython3",
   "version": "3.12.1"
  }
 },
 "nbformat": 4,
 "nbformat_minor": 5
}
