{
 "cells": [
  {
   "cell_type": "code",
   "execution_count": 3,
   "id": "a7ca149c",
   "metadata": {},
   "outputs": [
    {
     "name": "stdout",
     "output_type": "stream",
     "text": [
      "Your final total is $60\n"
     ]
    }
   ],
   "source": [
    "cost = input(\"What is the total cost of your shopping cart? \")\n",
    "total_cost=int(cost)\n",
    "if total_cost<100:\n",
    "    total_cost+=10\n",
    "\n",
    "print (f'Your final total is ${total_cost}')"
   ]
  },
  {
   "cell_type": "code",
   "execution_count": 4,
   "id": "2797ed2c",
   "metadata": {},
   "outputs": [
    {
     "name": "stdout",
     "output_type": "stream",
     "text": [
      "The number is negative\n"
     ]
    }
   ],
   "source": [
    "number=input(\"Enter a number\")\n",
    "\n",
    "num=int(number)\n",
    "\n",
    "if num<0:\n",
    "    print('The number is negative')\n",
    "elif num>0:\n",
    "    print('The number is positive')\n",
    "else:\n",
    "    print('The number is zero')"
   ]
  },
  {
   "cell_type": "code",
   "execution_count": null,
   "id": "77c13f4c",
   "metadata": {},
   "outputs": [
    {
     "name": "stdout",
     "output_type": "stream",
     "text": [
      "Access Denied\n"
     ]
    }
   ],
   "source": [
    "user=input(\"Enter username\")\n",
    "pwd=input(\"Enter password\")\n",
    "\n",
    "if user=='admin' and pwd=='P@ssword123':\n",
    "    print('Access Granted')\n",
    "else:\n",
    "    print('Access Denied')"
   ]
  },
  {
   "cell_type": "code",
   "execution_count": 4,
   "id": "9d5cf494",
   "metadata": {},
   "outputs": [
    {
     "name": "stdout",
     "output_type": "stream",
     "text": [
      "Invalid input. Please enter a positive number.\n"
     ]
    }
   ],
   "source": [
    "try:\n",
    "    height = float(input(\"Enter your height in meter\"))\n",
    "    if height <= 0:\n",
    "        print(\"Invalid input. Please enter a positive number.\")\n",
    "    else:\n",
    "        weight = float(input(\"Enter your weight in Kilogram\"))\n",
    "        if weight <= 0:\n",
    "            print(\"Invalid input. Please enter a positive number.\")\n",
    "        else:\n",
    "            bmi = weight / (height * height)\n",
    "\n",
    "            if bmi < 18.5:\n",
    "                print(\"Underweight\")\n",
    "            elif 18.5 <= bmi <= 24.9:\n",
    "                print(\"Normal weight\")\n",
    "            elif 25 <= bmi <= 29.9:\n",
    "                print(\"Overweight\")\n",
    "            else:\n",
    "                print(\"Obese\")\n",
    "\n",
    "except ValueError:\n",
    "    print(\"Invalid input. Please enter a positive number.\")"
   ]
  }
 ],
 "metadata": {
  "kernelspec": {
   "display_name": "Python 3",
   "language": "python",
   "name": "python3"
  },
  "language_info": {
   "codemirror_mode": {
    "name": "ipython",
    "version": 3
   },
   "file_extension": ".py",
   "mimetype": "text/x-python",
   "name": "python",
   "nbconvert_exporter": "python",
   "pygments_lexer": "ipython3",
   "version": "3.12.1"
  }
 },
 "nbformat": 4,
 "nbformat_minor": 5
}
